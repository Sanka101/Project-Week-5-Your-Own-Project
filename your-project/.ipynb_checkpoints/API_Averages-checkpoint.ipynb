{
 "cells": [
  {
   "cell_type": "code",
   "execution_count": 3,
   "metadata": {},
   "outputs": [],
   "source": [
    "import pandas as pd\n",
    "import numpy as np\n"
   ]
  },
  {
   "cell_type": "code",
   "execution_count": 4,
   "metadata": {},
   "outputs": [],
   "source": [
    "ajax = pd.read_csv(\"Raw_Data/ajax_final_clean.csv\", sep=',')"
   ]
  },
  {
   "cell_type": "code",
   "execution_count": 5,
   "metadata": {},
   "outputs": [],
   "source": [
    "getafe = pd.read_csv(\"Raw_Data/getafe_final_clean.csv\", sep=',')"
   ]
  },
  {
   "cell_type": "code",
   "execution_count": 11,
   "metadata": {},
   "outputs": [],
   "source": [
    "ajax = ajax.drop(columns='Unnamed: 0')\n"
   ]
  },
  {
   "cell_type": "code",
   "execution_count": 18,
   "metadata": {},
   "outputs": [],
   "source": [
    "ajax = ajax[['0.1','0', 'Shots on Goal', 'Shots off Goal', 'Total Shots', 'Blocked Shots',\n",
    "       'Shots insidebox', 'Shots outsidebox', 'Fouls', 'Corner Kicks',\n",
    "       'Offsides', 'Ball Possession', 'Yellow Cards', 'Red Cards',\n",
    "       'Goalkeeper Saves', 'Total passes', 'Passes accurate', 'Passes %']]"
   ]
  },
  {
   "cell_type": "code",
   "execution_count": 22,
   "metadata": {},
   "outputs": [],
   "source": [
    "ajax.rename(columns= {'0.1':'Score', '0':'Location'}, inplace=True)"
   ]
  },
  {
   "cell_type": "code",
   "execution_count": 24,
   "metadata": {},
   "outputs": [],
   "source": [
    "getafe = getafe.drop(columns='Unnamed: 0')"
   ]
  },
  {
   "cell_type": "code",
   "execution_count": 25,
   "metadata": {},
   "outputs": [],
   "source": [
    "getafe = getafe[['0.1','0', 'Shots on Goal', 'Shots off Goal', 'Total Shots', 'Blocked Shots',\n",
    "       'Shots insidebox', 'Shots outsidebox', 'Fouls', 'Corner Kicks',\n",
    "       'Offsides', 'Ball Possession', 'Yellow Cards', 'Red Cards',\n",
    "       'Goalkeeper Saves', 'Total passes', 'Passes accurate', 'Passes %']]"
   ]
  },
  {
   "cell_type": "code",
   "execution_count": 26,
   "metadata": {},
   "outputs": [],
   "source": [
    "getafe.rename(columns= {'0.1':'Score', '0':'Location'}, inplace=True)"
   ]
  },
  {
   "cell_type": "code",
   "execution_count": 28,
   "metadata": {},
   "outputs": [],
   "source": [
    "getafe.to_csv(\"Clean data/getafe_clean.csv\", sep=',')"
   ]
  },
  {
   "cell_type": "code",
   "execution_count": 29,
   "metadata": {},
   "outputs": [],
   "source": [
    "ajax.to_csv(\"Clean data/ajax_clean.csv\", sep=',')"
   ]
  },
  {
   "cell_type": "markdown",
   "metadata": {},
   "source": [
    "# T-Statistic"
   ]
  },
  {
   "cell_type": "code",
   "execution_count": 44,
   "metadata": {},
   "outputs": [
    {
     "data": {
      "text/plain": [
       "34"
      ]
     },
     "execution_count": 44,
     "metadata": {},
     "output_type": "execute_result"
    }
   ],
   "source": [
    "len(ajax['Fouls'])"
   ]
  },
  {
   "cell_type": "code",
   "execution_count": 54,
   "metadata": {},
   "outputs": [],
   "source": [
    "ajax_mean = np.mean(ajax['Fouls'])"
   ]
  },
  {
   "cell_type": "code",
   "execution_count": 55,
   "metadata": {},
   "outputs": [],
   "source": [
    "get_mean =  np.mean(getafe['Fouls'])"
   ]
  },
  {
   "cell_type": "code",
   "execution_count": 48,
   "metadata": {},
   "outputs": [],
   "source": [
    "std_ajax = np.std(ajax['Fouls'])"
   ]
  },
  {
   "cell_type": "code",
   "execution_count": 49,
   "metadata": {},
   "outputs": [],
   "source": [
    "std_getafe = np.std(getafe['Fouls'])"
   ]
  },
  {
   "cell_type": "code",
   "execution_count": 35,
   "metadata": {},
   "outputs": [],
   "source": [
    "import math\n",
    "import scipy.stats as stats"
   ]
  },
  {
   "cell_type": "code",
   "execution_count": 56,
   "metadata": {},
   "outputs": [
    {
     "data": {
      "text/plain": [
       "-7.886996904024766"
      ]
     },
     "execution_count": 56,
     "metadata": {},
     "output_type": "execute_result"
    }
   ],
   "source": [
    "diff = ajax_mean - get_mean\n",
    "diff"
   ]
  },
  {
   "cell_type": "code",
   "execution_count": 57,
   "metadata": {},
   "outputs": [],
   "source": [
    "a = math.pow(std_ajax, 2)/len(ajax['Fouls'])\n",
    "b = math.pow(std_getafe, 2)/len(getafe['Fouls'])"
   ]
  },
  {
   "cell_type": "code",
   "execution_count": 58,
   "metadata": {},
   "outputs": [
    {
     "data": {
      "text/plain": [
       "-8.974765556421932"
      ]
     },
     "execution_count": 58,
     "metadata": {},
     "output_type": "execute_result"
    }
   ],
   "source": [
    "t_score = diff/(math.sqrt(a+b))\n",
    "t_score"
   ]
  },
  {
   "cell_type": "code",
   "execution_count": 59,
   "metadata": {},
   "outputs": [
    {
     "data": {
      "text/plain": [
       "2.260081788871125e-10"
      ]
     },
     "execution_count": 59,
     "metadata": {},
     "output_type": "execute_result"
    }
   ],
   "source": [
    "stats.t.cdf(x= t_score, df =33)*2"
   ]
  },
  {
   "cell_type": "markdown",
   "metadata": {},
   "source": [
    "# Averages"
   ]
  },
  {
   "cell_type": "code",
   "execution_count": 60,
   "metadata": {},
   "outputs": [
    {
     "data": {
      "text/plain": [
       "Shots on Goal         8.647059\n",
       "Shots off Goal        7.000000\n",
       "Total Shots          20.294118\n",
       "Blocked Shots         4.647059\n",
       "Shots insidebox      12.735294\n",
       "Shots outsidebox      7.558824\n",
       "Fouls                 9.823529\n",
       "Corner Kicks          7.882353\n",
       "Offsides              1.862069\n",
       "Yellow Cards          1.129032\n",
       "Red Cards             0.080000\n",
       "Goalkeeper Saves      2.617647\n",
       "Total passes        578.441176\n",
       "Passes accurate     490.647059\n",
       "dtype: float64"
      ]
     },
     "execution_count": 60,
     "metadata": {},
     "output_type": "execute_result"
    }
   ],
   "source": [
    "np.mean(ajax)"
   ]
  },
  {
   "cell_type": "code",
   "execution_count": 61,
   "metadata": {},
   "outputs": [
    {
     "data": {
      "text/plain": [
       "Shots on Goal         3.526316\n",
       "Shots off Goal        4.026316\n",
       "Total Shots           9.815789\n",
       "Blocked Shots         2.324324\n",
       "Shots insidebox       6.105263\n",
       "Shots outsidebox      3.736842\n",
       "Fouls                17.710526\n",
       "Corner Kicks          4.763158\n",
       "Offsides              2.918919\n",
       "Yellow Cards          3.394737\n",
       "Red Cards             0.131579\n",
       "Goalkeeper Saves      2.605263\n",
       "Total passes        302.605263\n",
       "Passes accurate     199.342105\n",
       "dtype: float64"
      ]
     },
     "execution_count": 61,
     "metadata": {},
     "output_type": "execute_result"
    }
   ],
   "source": [
    "np.mean(getafe)"
   ]
  },
  {
   "cell_type": "code",
   "execution_count": 66,
   "metadata": {},
   "outputs": [],
   "source": [
    "x = pd.DataFrame({'Name': ['Ajax','Getafe'], 'Shots on Goal':[ 8.647059,3.526316],\n",
    "'Shots off Goal':[ 7.000000, 4.026316],\n",
    "'Total Shots ' :[20.294118, 9.815789],\n",
    "'Blocked Shots' :[4.647059,2.324324],\n",
    "'Shots insidebox ' :[12.735294,6.105263],\n",
    "'Shots outsidebox ' :[7.558824,3.736842],\n",
    "'Fouls'  :[9.823529,17.710526],\n",
    "'Corner Kicks' :[7.882353,4.763158],\n",
    "'Offsides'      :[1.862069,2.918919],\n",
    "'Yellow Cards '  :[1.129032,3.394737],\n",
    "'Red Cards'     :[ 0.080000,0.131579],\n",
    "'Goalkeeper Saves ':[  2.617647,2.605263],\n",
    "'Total passes'    :[578.441176,302.605263],\n",
    "'Passes accurate ' :[490.647059,199.342105]\n",
    "             \n",
    "             })"
   ]
  },
  {
   "cell_type": "code",
   "execution_count": 69,
   "metadata": {},
   "outputs": [],
   "source": [
    "x.set_index('Name', inplace= True)"
   ]
  },
  {
   "cell_type": "code",
   "execution_count": 70,
   "metadata": {},
   "outputs": [
    {
     "data": {
      "text/html": [
       "<div>\n",
       "<style scoped>\n",
       "    .dataframe tbody tr th:only-of-type {\n",
       "        vertical-align: middle;\n",
       "    }\n",
       "\n",
       "    .dataframe tbody tr th {\n",
       "        vertical-align: top;\n",
       "    }\n",
       "\n",
       "    .dataframe thead th {\n",
       "        text-align: right;\n",
       "    }\n",
       "</style>\n",
       "<table border=\"1\" class=\"dataframe\">\n",
       "  <thead>\n",
       "    <tr style=\"text-align: right;\">\n",
       "      <th></th>\n",
       "      <th>Shots on Goal</th>\n",
       "      <th>Shots off Goal</th>\n",
       "      <th>Total Shots</th>\n",
       "      <th>Blocked Shots</th>\n",
       "      <th>Shots insidebox</th>\n",
       "      <th>Shots outsidebox</th>\n",
       "      <th>Fouls</th>\n",
       "      <th>Corner Kicks</th>\n",
       "      <th>Offsides</th>\n",
       "      <th>Yellow Cards</th>\n",
       "      <th>Red Cards</th>\n",
       "      <th>Goalkeeper Saves</th>\n",
       "      <th>Total passes</th>\n",
       "      <th>Passes accurate</th>\n",
       "    </tr>\n",
       "    <tr>\n",
       "      <th>Name</th>\n",
       "      <th></th>\n",
       "      <th></th>\n",
       "      <th></th>\n",
       "      <th></th>\n",
       "      <th></th>\n",
       "      <th></th>\n",
       "      <th></th>\n",
       "      <th></th>\n",
       "      <th></th>\n",
       "      <th></th>\n",
       "      <th></th>\n",
       "      <th></th>\n",
       "      <th></th>\n",
       "      <th></th>\n",
       "    </tr>\n",
       "  </thead>\n",
       "  <tbody>\n",
       "    <tr>\n",
       "      <td>Ajax</td>\n",
       "      <td>8.647059</td>\n",
       "      <td>7.000000</td>\n",
       "      <td>20.294118</td>\n",
       "      <td>4.647059</td>\n",
       "      <td>12.735294</td>\n",
       "      <td>7.558824</td>\n",
       "      <td>9.823529</td>\n",
       "      <td>7.882353</td>\n",
       "      <td>1.862069</td>\n",
       "      <td>1.129032</td>\n",
       "      <td>0.080000</td>\n",
       "      <td>2.617647</td>\n",
       "      <td>578.441176</td>\n",
       "      <td>490.647059</td>\n",
       "    </tr>\n",
       "    <tr>\n",
       "      <td>Getafe</td>\n",
       "      <td>3.526316</td>\n",
       "      <td>4.026316</td>\n",
       "      <td>9.815789</td>\n",
       "      <td>2.324324</td>\n",
       "      <td>6.105263</td>\n",
       "      <td>3.736842</td>\n",
       "      <td>17.710526</td>\n",
       "      <td>4.763158</td>\n",
       "      <td>2.918919</td>\n",
       "      <td>3.394737</td>\n",
       "      <td>0.131579</td>\n",
       "      <td>2.605263</td>\n",
       "      <td>302.605263</td>\n",
       "      <td>199.342105</td>\n",
       "    </tr>\n",
       "  </tbody>\n",
       "</table>\n",
       "</div>"
      ],
      "text/plain": [
       "        Shots on Goal  Shots off Goal  Total Shots   Blocked Shots  \\\n",
       "Name                                                                 \n",
       "Ajax         8.647059        7.000000     20.294118       4.647059   \n",
       "Getafe       3.526316        4.026316      9.815789       2.324324   \n",
       "\n",
       "        Shots insidebox   Shots outsidebox       Fouls  Corner Kicks  \\\n",
       "Name                                                                   \n",
       "Ajax           12.735294           7.558824   9.823529      7.882353   \n",
       "Getafe          6.105263           3.736842  17.710526      4.763158   \n",
       "\n",
       "        Offsides  Yellow Cards   Red Cards  Goalkeeper Saves   Total passes  \\\n",
       "Name                                                                          \n",
       "Ajax    1.862069       1.129032   0.080000           2.617647    578.441176   \n",
       "Getafe  2.918919       3.394737   0.131579           2.605263    302.605263   \n",
       "\n",
       "        Passes accurate   \n",
       "Name                      \n",
       "Ajax          490.647059  \n",
       "Getafe        199.342105  "
      ]
     },
     "execution_count": 70,
     "metadata": {},
     "output_type": "execute_result"
    }
   ],
   "source": [
    "x"
   ]
  },
  {
   "cell_type": "code",
   "execution_count": 71,
   "metadata": {},
   "outputs": [],
   "source": [
    "x.to_csv(\"Clean data/averages_stats.csv\",sep=',')"
   ]
  },
  {
   "cell_type": "code",
   "execution_count": null,
   "metadata": {},
   "outputs": [],
   "source": []
  }
 ],
 "metadata": {
  "kernelspec": {
   "display_name": "Python 3",
   "language": "python",
   "name": "python3"
  },
  "language_info": {
   "codemirror_mode": {
    "name": "ipython",
    "version": 3
   },
   "file_extension": ".py",
   "mimetype": "text/x-python",
   "name": "python",
   "nbconvert_exporter": "python",
   "pygments_lexer": "ipython3",
   "version": "3.7.4"
  }
 },
 "nbformat": 4,
 "nbformat_minor": 2
}
